{
 "cells": [
  {
   "cell_type": "markdown",
   "metadata": {},
   "source": [
    "# Amazon Auto ARIMA Time Series Model "
   ]
  },
  {
   "cell_type": "markdown",
   "metadata": {},
   "source": [
    "I wanted to create a time series model that forecasted Amazon's stock prices according to my Robinhood dataset. I wanted to use some techniques that I have not used before. I got this time series modeling method from two Udemy time series courses and combined the two modeling techniques. Combining the models was not in my orginial plan but my model was not producing any results when I got to the forecasting section with my first process of choice, so combining the two strategies finally gave me some really good outcomes. \n",
    "\n",
    "The model versions that I used was the Simple Auto ARIMA Model and the Advanced Auto ARIMA Model methods. ARIMA stands for Auto Regressive Integrated Moving Average. This model is best when dealing with non-stationary data, which I had. Predicting the stock market will almost always produce non-stationary data and the ARIMA model will almost always be the best choice. The advantage of the Auto ARIMA model over a simple ARIMA model is the Auto ARIMA method automatically returns the best p, d, q without having to conduct multiple models to find the best fit. The p, d, and q stands for:\n",
    "\n",
    "p is the order of the AR term\n",
    "\n",
    "q is the order of the MA term\n",
    "\n",
    "d is the number of differencing required to make the time series stationary\n",
    "\n",
    "In the end, I decided to use the Advanced Auto ARIMA method because I wanted to compare and tweak different model parameters due to the fact that sometimes the Simple Auto ARIMA model can over look certain variables. "
   ]
  },
  {
   "cell_type": "code",
   "execution_count": 1,
   "metadata": {},
   "outputs": [],
   "source": [
    "import pandas as pd\n",
    "import numpy as np\n",
    "import matplotlib.pyplot as plt\n",
    "from pandas_profiling import ProfileReport\n",
    "import statsmodels.graphics.tsaplots as sgt\n",
    "import statsmodels.tsa.stattools as sts\n",
    "from statsmodels.tsa.seasonal import seasonal_decompose\n",
    "from statsmodels.tsa.arima_model import ARMA\n",
    "from pmdarima.arima import auto_arima\n",
    "from scipy.stats.distributions import chi2\n",
    "from statsmodels.tsa.arima_model import ARIMA\n",
    "from statsmodels.tsa.statespace.sarimax import SARIMAX\n",
    "\n",
    "import warnings\n",
    "warnings.filterwarnings('ignore') \n",
    "import pandas.util.testing as tm\n",
    "import seaborn as sns\n",
    "sns.set()"
   ]
  },
  {
   "cell_type": "markdown",
   "metadata": {},
   "source": [
    "I am going to load, clean and manipulate my data to prepare for EDA."
   ]
  },
  {
   "cell_type": "code",
   "execution_count": 2,
   "metadata": {},
   "outputs": [
    {
     "data": {
      "text/html": [
       "<div>\n",
       "<style scoped>\n",
       "    .dataframe tbody tr th:only-of-type {\n",
       "        vertical-align: middle;\n",
       "    }\n",
       "\n",
       "    .dataframe tbody tr th {\n",
       "        vertical-align: top;\n",
       "    }\n",
       "\n",
       "    .dataframe thead th {\n",
       "        text-align: right;\n",
       "    }\n",
       "</style>\n",
       "<table border=\"1\" class=\"dataframe\">\n",
       "  <thead>\n",
       "    <tr style=\"text-align: right;\">\n",
       "      <th></th>\n",
       "      <th>Unnamed: 0</th>\n",
       "      <th>Clean_Datetime</th>\n",
       "      <th>Clean_Datetime_PST</th>\n",
       "      <th>Close</th>\n",
       "      <th>High</th>\n",
       "      <th>Low</th>\n",
       "      <th>Open</th>\n",
       "      <th>OpenInt</th>\n",
       "      <th>Ticker</th>\n",
       "      <th>Vol</th>\n",
       "      <th>users_holding_first</th>\n",
       "      <th>users_holding_last</th>\n",
       "      <th>users_holding_max</th>\n",
       "      <th>users_holding_min</th>\n",
       "    </tr>\n",
       "  </thead>\n",
       "  <tbody>\n",
       "    <tr>\n",
       "      <th>0</th>\n",
       "      <td>0</td>\n",
       "      <td>NaN</td>\n",
       "      <td>2019-09-23 08:00:00</td>\n",
       "      <td>51.8985</td>\n",
       "      <td>51.9595</td>\n",
       "      <td>51.8985</td>\n",
       "      <td>51.9595</td>\n",
       "      <td>0</td>\n",
       "      <td>IBA</td>\n",
       "      <td>374</td>\n",
       "      <td>22.0</td>\n",
       "      <td>22.0</td>\n",
       "      <td>22.0</td>\n",
       "      <td>22.0</td>\n",
       "    </tr>\n",
       "    <tr>\n",
       "      <th>1</th>\n",
       "      <td>1</td>\n",
       "      <td>NaN</td>\n",
       "      <td>2019-09-23 10:00:00</td>\n",
       "      <td>51.9400</td>\n",
       "      <td>52.0300</td>\n",
       "      <td>51.9400</td>\n",
       "      <td>52.0300</td>\n",
       "      <td>0</td>\n",
       "      <td>IBA</td>\n",
       "      <td>200</td>\n",
       "      <td>22.0</td>\n",
       "      <td>22.0</td>\n",
       "      <td>22.0</td>\n",
       "      <td>22.0</td>\n",
       "    </tr>\n",
       "    <tr>\n",
       "      <th>2</th>\n",
       "      <td>2</td>\n",
       "      <td>NaN</td>\n",
       "      <td>2019-09-23 11:00:00</td>\n",
       "      <td>51.9300</td>\n",
       "      <td>51.9300</td>\n",
       "      <td>51.9300</td>\n",
       "      <td>51.9300</td>\n",
       "      <td>0</td>\n",
       "      <td>IBA</td>\n",
       "      <td>100</td>\n",
       "      <td>22.0</td>\n",
       "      <td>22.0</td>\n",
       "      <td>22.0</td>\n",
       "      <td>22.0</td>\n",
       "    </tr>\n",
       "    <tr>\n",
       "      <th>3</th>\n",
       "      <td>3</td>\n",
       "      <td>NaN</td>\n",
       "      <td>2019-09-23 12:00:00</td>\n",
       "      <td>52.3100</td>\n",
       "      <td>52.3100</td>\n",
       "      <td>51.8500</td>\n",
       "      <td>52.0571</td>\n",
       "      <td>0</td>\n",
       "      <td>IBA</td>\n",
       "      <td>525</td>\n",
       "      <td>22.0</td>\n",
       "      <td>22.0</td>\n",
       "      <td>22.0</td>\n",
       "      <td>22.0</td>\n",
       "    </tr>\n",
       "    <tr>\n",
       "      <th>4</th>\n",
       "      <td>4</td>\n",
       "      <td>NaN</td>\n",
       "      <td>2019-09-23 13:00:00</td>\n",
       "      <td>52.2500</td>\n",
       "      <td>52.3000</td>\n",
       "      <td>52.2500</td>\n",
       "      <td>52.3000</td>\n",
       "      <td>0</td>\n",
       "      <td>IBA</td>\n",
       "      <td>400</td>\n",
       "      <td>22.0</td>\n",
       "      <td>22.0</td>\n",
       "      <td>22.0</td>\n",
       "      <td>22.0</td>\n",
       "    </tr>\n",
       "    <tr>\n",
       "      <th>...</th>\n",
       "      <td>...</td>\n",
       "      <td>...</td>\n",
       "      <td>...</td>\n",
       "      <td>...</td>\n",
       "      <td>...</td>\n",
       "      <td>...</td>\n",
       "      <td>...</td>\n",
       "      <td>...</td>\n",
       "      <td>...</td>\n",
       "      <td>...</td>\n",
       "      <td>...</td>\n",
       "      <td>...</td>\n",
       "      <td>...</td>\n",
       "      <td>...</td>\n",
       "    </tr>\n",
       "    <tr>\n",
       "      <th>10419769</th>\n",
       "      <td>804</td>\n",
       "      <td>NaN</td>\n",
       "      <td>2020-07-17 08:00:00</td>\n",
       "      <td>1.9003</td>\n",
       "      <td>1.9297</td>\n",
       "      <td>1.9000</td>\n",
       "      <td>1.9273</td>\n",
       "      <td>0</td>\n",
       "      <td>ENTX</td>\n",
       "      <td>1400</td>\n",
       "      <td>250.0</td>\n",
       "      <td>241.0</td>\n",
       "      <td>250.0</td>\n",
       "      <td>241.0</td>\n",
       "    </tr>\n",
       "    <tr>\n",
       "      <th>10419770</th>\n",
       "      <td>805</td>\n",
       "      <td>NaN</td>\n",
       "      <td>2020-07-17 09:00:00</td>\n",
       "      <td>1.8764</td>\n",
       "      <td>1.8800</td>\n",
       "      <td>1.8600</td>\n",
       "      <td>1.8800</td>\n",
       "      <td>0</td>\n",
       "      <td>ENTX</td>\n",
       "      <td>4330</td>\n",
       "      <td>239.0</td>\n",
       "      <td>239.0</td>\n",
       "      <td>239.0</td>\n",
       "      <td>239.0</td>\n",
       "    </tr>\n",
       "    <tr>\n",
       "      <th>10419771</th>\n",
       "      <td>806</td>\n",
       "      <td>NaN</td>\n",
       "      <td>2020-07-17 10:00:00</td>\n",
       "      <td>1.8600</td>\n",
       "      <td>1.8800</td>\n",
       "      <td>1.8600</td>\n",
       "      <td>1.8600</td>\n",
       "      <td>0</td>\n",
       "      <td>ENTX</td>\n",
       "      <td>5150</td>\n",
       "      <td>239.0</td>\n",
       "      <td>236.0</td>\n",
       "      <td>239.0</td>\n",
       "      <td>236.0</td>\n",
       "    </tr>\n",
       "    <tr>\n",
       "      <th>10419772</th>\n",
       "      <td>807</td>\n",
       "      <td>NaN</td>\n",
       "      <td>2020-07-17 12:00:00</td>\n",
       "      <td>1.8900</td>\n",
       "      <td>1.8900</td>\n",
       "      <td>1.8600</td>\n",
       "      <td>1.8600</td>\n",
       "      <td>0</td>\n",
       "      <td>ENTX</td>\n",
       "      <td>3114</td>\n",
       "      <td>236.0</td>\n",
       "      <td>235.0</td>\n",
       "      <td>236.0</td>\n",
       "      <td>235.0</td>\n",
       "    </tr>\n",
       "    <tr>\n",
       "      <th>10419773</th>\n",
       "      <td>808</td>\n",
       "      <td>NaN</td>\n",
       "      <td>2020-07-17 13:00:00</td>\n",
       "      <td>1.8800</td>\n",
       "      <td>1.8900</td>\n",
       "      <td>1.8700</td>\n",
       "      <td>1.8800</td>\n",
       "      <td>0</td>\n",
       "      <td>ENTX</td>\n",
       "      <td>4900</td>\n",
       "      <td>236.0</td>\n",
       "      <td>236.0</td>\n",
       "      <td>236.0</td>\n",
       "      <td>236.0</td>\n",
       "    </tr>\n",
       "  </tbody>\n",
       "</table>\n",
       "<p>10419774 rows × 14 columns</p>\n",
       "</div>"
      ],
      "text/plain": [
       "          Unnamed: 0  Clean_Datetime   Clean_Datetime_PST    Close     High  \\\n",
       "0                  0             NaN  2019-09-23 08:00:00  51.8985  51.9595   \n",
       "1                  1             NaN  2019-09-23 10:00:00  51.9400  52.0300   \n",
       "2                  2             NaN  2019-09-23 11:00:00  51.9300  51.9300   \n",
       "3                  3             NaN  2019-09-23 12:00:00  52.3100  52.3100   \n",
       "4                  4             NaN  2019-09-23 13:00:00  52.2500  52.3000   \n",
       "...              ...             ...                  ...      ...      ...   \n",
       "10419769         804             NaN  2020-07-17 08:00:00   1.9003   1.9297   \n",
       "10419770         805             NaN  2020-07-17 09:00:00   1.8764   1.8800   \n",
       "10419771         806             NaN  2020-07-17 10:00:00   1.8600   1.8800   \n",
       "10419772         807             NaN  2020-07-17 12:00:00   1.8900   1.8900   \n",
       "10419773         808             NaN  2020-07-17 13:00:00   1.8800   1.8900   \n",
       "\n",
       "              Low     Open  OpenInt Ticker   Vol  users_holding_first  \\\n",
       "0         51.8985  51.9595        0    IBA   374                 22.0   \n",
       "1         51.9400  52.0300        0    IBA   200                 22.0   \n",
       "2         51.9300  51.9300        0    IBA   100                 22.0   \n",
       "3         51.8500  52.0571        0    IBA   525                 22.0   \n",
       "4         52.2500  52.3000        0    IBA   400                 22.0   \n",
       "...           ...      ...      ...    ...   ...                  ...   \n",
       "10419769   1.9000   1.9273        0   ENTX  1400                250.0   \n",
       "10419770   1.8600   1.8800        0   ENTX  4330                239.0   \n",
       "10419771   1.8600   1.8600        0   ENTX  5150                239.0   \n",
       "10419772   1.8600   1.8600        0   ENTX  3114                236.0   \n",
       "10419773   1.8700   1.8800        0   ENTX  4900                236.0   \n",
       "\n",
       "          users_holding_last  users_holding_max  users_holding_min  \n",
       "0                       22.0               22.0               22.0  \n",
       "1                       22.0               22.0               22.0  \n",
       "2                       22.0               22.0               22.0  \n",
       "3                       22.0               22.0               22.0  \n",
       "4                       22.0               22.0               22.0  \n",
       "...                      ...                ...                ...  \n",
       "10419769               241.0              250.0              241.0  \n",
       "10419770               239.0              239.0              239.0  \n",
       "10419771               236.0              239.0              236.0  \n",
       "10419772               235.0              236.0              235.0  \n",
       "10419773               236.0              236.0              236.0  \n",
       "\n",
       "[10419774 rows x 14 columns]"
      ]
     },
     "execution_count": 2,
     "metadata": {},
     "output_type": "execute_result"
    }
   ],
   "source": [
    "df1 = pd.read_csv('Robinhood_Master_v1.csv')\n",
    "df1"
   ]
  },
  {
   "cell_type": "markdown",
   "metadata": {},
   "source": [
    "I am converting my data into datetime data and then filter it out to generate the end of day information for every day the stock market is open for each asset. The data was already indexed once before I downloaded it from Kaggle, and I was unable to reset it. I had to make a filter to create the datetime filter that I wanted."
   ]
  },
  {
   "cell_type": "code",
   "execution_count": 3,
   "metadata": {},
   "outputs": [
    {
     "data": {
      "text/html": [
       "<div>\n",
       "<style scoped>\n",
       "    .dataframe tbody tr th:only-of-type {\n",
       "        vertical-align: middle;\n",
       "    }\n",
       "\n",
       "    .dataframe tbody tr th {\n",
       "        vertical-align: top;\n",
       "    }\n",
       "\n",
       "    .dataframe thead th {\n",
       "        text-align: right;\n",
       "    }\n",
       "</style>\n",
       "<table border=\"1\" class=\"dataframe\">\n",
       "  <thead>\n",
       "    <tr style=\"text-align: right;\">\n",
       "      <th></th>\n",
       "      <th>Close</th>\n",
       "      <th>High</th>\n",
       "      <th>Low</th>\n",
       "      <th>Open</th>\n",
       "      <th>Ticker</th>\n",
       "      <th>Vol</th>\n",
       "      <th>users_holding_first</th>\n",
       "      <th>users_holding_last</th>\n",
       "      <th>users_holding_max</th>\n",
       "      <th>users_holding_min</th>\n",
       "      <th>Date</th>\n",
       "      <th>Time</th>\n",
       "    </tr>\n",
       "  </thead>\n",
       "  <tbody>\n",
       "    <tr>\n",
       "      <th>0</th>\n",
       "      <td>51.8985</td>\n",
       "      <td>51.9595</td>\n",
       "      <td>51.8985</td>\n",
       "      <td>51.9595</td>\n",
       "      <td>IBA</td>\n",
       "      <td>374</td>\n",
       "      <td>22.0</td>\n",
       "      <td>22.0</td>\n",
       "      <td>22.0</td>\n",
       "      <td>22.0</td>\n",
       "      <td>2019-09-23</td>\n",
       "      <td>08:00:00</td>\n",
       "    </tr>\n",
       "    <tr>\n",
       "      <th>1</th>\n",
       "      <td>51.9400</td>\n",
       "      <td>52.0300</td>\n",
       "      <td>51.9400</td>\n",
       "      <td>52.0300</td>\n",
       "      <td>IBA</td>\n",
       "      <td>200</td>\n",
       "      <td>22.0</td>\n",
       "      <td>22.0</td>\n",
       "      <td>22.0</td>\n",
       "      <td>22.0</td>\n",
       "      <td>2019-09-23</td>\n",
       "      <td>10:00:00</td>\n",
       "    </tr>\n",
       "    <tr>\n",
       "      <th>2</th>\n",
       "      <td>51.9300</td>\n",
       "      <td>51.9300</td>\n",
       "      <td>51.9300</td>\n",
       "      <td>51.9300</td>\n",
       "      <td>IBA</td>\n",
       "      <td>100</td>\n",
       "      <td>22.0</td>\n",
       "      <td>22.0</td>\n",
       "      <td>22.0</td>\n",
       "      <td>22.0</td>\n",
       "      <td>2019-09-23</td>\n",
       "      <td>11:00:00</td>\n",
       "    </tr>\n",
       "    <tr>\n",
       "      <th>3</th>\n",
       "      <td>52.3100</td>\n",
       "      <td>52.3100</td>\n",
       "      <td>51.8500</td>\n",
       "      <td>52.0571</td>\n",
       "      <td>IBA</td>\n",
       "      <td>525</td>\n",
       "      <td>22.0</td>\n",
       "      <td>22.0</td>\n",
       "      <td>22.0</td>\n",
       "      <td>22.0</td>\n",
       "      <td>2019-09-23</td>\n",
       "      <td>12:00:00</td>\n",
       "    </tr>\n",
       "    <tr>\n",
       "      <th>4</th>\n",
       "      <td>52.2500</td>\n",
       "      <td>52.3000</td>\n",
       "      <td>52.2500</td>\n",
       "      <td>52.3000</td>\n",
       "      <td>IBA</td>\n",
       "      <td>400</td>\n",
       "      <td>22.0</td>\n",
       "      <td>22.0</td>\n",
       "      <td>22.0</td>\n",
       "      <td>22.0</td>\n",
       "      <td>2019-09-23</td>\n",
       "      <td>13:00:00</td>\n",
       "    </tr>\n",
       "    <tr>\n",
       "      <th>...</th>\n",
       "      <td>...</td>\n",
       "      <td>...</td>\n",
       "      <td>...</td>\n",
       "      <td>...</td>\n",
       "      <td>...</td>\n",
       "      <td>...</td>\n",
       "      <td>...</td>\n",
       "      <td>...</td>\n",
       "      <td>...</td>\n",
       "      <td>...</td>\n",
       "      <td>...</td>\n",
       "      <td>...</td>\n",
       "    </tr>\n",
       "    <tr>\n",
       "      <th>10419769</th>\n",
       "      <td>1.9003</td>\n",
       "      <td>1.9297</td>\n",
       "      <td>1.9000</td>\n",
       "      <td>1.9273</td>\n",
       "      <td>ENTX</td>\n",
       "      <td>1400</td>\n",
       "      <td>250.0</td>\n",
       "      <td>241.0</td>\n",
       "      <td>250.0</td>\n",
       "      <td>241.0</td>\n",
       "      <td>2020-07-17</td>\n",
       "      <td>08:00:00</td>\n",
       "    </tr>\n",
       "    <tr>\n",
       "      <th>10419770</th>\n",
       "      <td>1.8764</td>\n",
       "      <td>1.8800</td>\n",
       "      <td>1.8600</td>\n",
       "      <td>1.8800</td>\n",
       "      <td>ENTX</td>\n",
       "      <td>4330</td>\n",
       "      <td>239.0</td>\n",
       "      <td>239.0</td>\n",
       "      <td>239.0</td>\n",
       "      <td>239.0</td>\n",
       "      <td>2020-07-17</td>\n",
       "      <td>09:00:00</td>\n",
       "    </tr>\n",
       "    <tr>\n",
       "      <th>10419771</th>\n",
       "      <td>1.8600</td>\n",
       "      <td>1.8800</td>\n",
       "      <td>1.8600</td>\n",
       "      <td>1.8600</td>\n",
       "      <td>ENTX</td>\n",
       "      <td>5150</td>\n",
       "      <td>239.0</td>\n",
       "      <td>236.0</td>\n",
       "      <td>239.0</td>\n",
       "      <td>236.0</td>\n",
       "      <td>2020-07-17</td>\n",
       "      <td>10:00:00</td>\n",
       "    </tr>\n",
       "    <tr>\n",
       "      <th>10419772</th>\n",
       "      <td>1.8900</td>\n",
       "      <td>1.8900</td>\n",
       "      <td>1.8600</td>\n",
       "      <td>1.8600</td>\n",
       "      <td>ENTX</td>\n",
       "      <td>3114</td>\n",
       "      <td>236.0</td>\n",
       "      <td>235.0</td>\n",
       "      <td>236.0</td>\n",
       "      <td>235.0</td>\n",
       "      <td>2020-07-17</td>\n",
       "      <td>12:00:00</td>\n",
       "    </tr>\n",
       "    <tr>\n",
       "      <th>10419773</th>\n",
       "      <td>1.8800</td>\n",
       "      <td>1.8900</td>\n",
       "      <td>1.8700</td>\n",
       "      <td>1.8800</td>\n",
       "      <td>ENTX</td>\n",
       "      <td>4900</td>\n",
       "      <td>236.0</td>\n",
       "      <td>236.0</td>\n",
       "      <td>236.0</td>\n",
       "      <td>236.0</td>\n",
       "      <td>2020-07-17</td>\n",
       "      <td>13:00:00</td>\n",
       "    </tr>\n",
       "  </tbody>\n",
       "</table>\n",
       "<p>10419774 rows × 12 columns</p>\n",
       "</div>"
      ],
      "text/plain": [
       "            Close     High      Low     Open Ticker   Vol  \\\n",
       "0         51.8985  51.9595  51.8985  51.9595    IBA   374   \n",
       "1         51.9400  52.0300  51.9400  52.0300    IBA   200   \n",
       "2         51.9300  51.9300  51.9300  51.9300    IBA   100   \n",
       "3         52.3100  52.3100  51.8500  52.0571    IBA   525   \n",
       "4         52.2500  52.3000  52.2500  52.3000    IBA   400   \n",
       "...           ...      ...      ...      ...    ...   ...   \n",
       "10419769   1.9003   1.9297   1.9000   1.9273   ENTX  1400   \n",
       "10419770   1.8764   1.8800   1.8600   1.8800   ENTX  4330   \n",
       "10419771   1.8600   1.8800   1.8600   1.8600   ENTX  5150   \n",
       "10419772   1.8900   1.8900   1.8600   1.8600   ENTX  3114   \n",
       "10419773   1.8800   1.8900   1.8700   1.8800   ENTX  4900   \n",
       "\n",
       "          users_holding_first  users_holding_last  users_holding_max  \\\n",
       "0                        22.0                22.0               22.0   \n",
       "1                        22.0                22.0               22.0   \n",
       "2                        22.0                22.0               22.0   \n",
       "3                        22.0                22.0               22.0   \n",
       "4                        22.0                22.0               22.0   \n",
       "...                       ...                 ...                ...   \n",
       "10419769                250.0               241.0              250.0   \n",
       "10419770                239.0               239.0              239.0   \n",
       "10419771                239.0               236.0              239.0   \n",
       "10419772                236.0               235.0              236.0   \n",
       "10419773                236.0               236.0              236.0   \n",
       "\n",
       "          users_holding_min        Date      Time  \n",
       "0                      22.0  2019-09-23  08:00:00  \n",
       "1                      22.0  2019-09-23  10:00:00  \n",
       "2                      22.0  2019-09-23  11:00:00  \n",
       "3                      22.0  2019-09-23  12:00:00  \n",
       "4                      22.0  2019-09-23  13:00:00  \n",
       "...                     ...         ...       ...  \n",
       "10419769              241.0  2020-07-17  08:00:00  \n",
       "10419770              239.0  2020-07-17  09:00:00  \n",
       "10419771              236.0  2020-07-17  10:00:00  \n",
       "10419772              235.0  2020-07-17  12:00:00  \n",
       "10419773              236.0  2020-07-17  13:00:00  \n",
       "\n",
       "[10419774 rows x 12 columns]"
      ]
     },
     "execution_count": 3,
     "metadata": {},
     "output_type": "execute_result"
    }
   ],
   "source": [
    "df1[['Date','Time']] = df1.Clean_Datetime_PST.str.split(\" \",expand=True,)\n",
    "df2=df1.drop(columns=['Unnamed: 0', 'Clean_Datetime', 'OpenInt', 'Clean_Datetime_PST'])\n",
    "df2"
   ]
  },
  {
   "cell_type": "code",
   "execution_count": 4,
   "metadata": {},
   "outputs": [],
   "source": [
    "filt = (df2['Time'] == '13:00:00')\n",
    "day = df2[filt]"
   ]
  },
  {
   "cell_type": "code",
   "execution_count": 5,
   "metadata": {},
   "outputs": [],
   "source": [
    "day['Date'] = pd.to_datetime(day.Date)\n",
    "day.set_index('Date', inplace=True)"
   ]
  },
  {
   "cell_type": "code",
   "execution_count": 6,
   "metadata": {},
   "outputs": [
    {
     "name": "stdout",
     "output_type": "stream",
     "text": [
      "<class 'pandas.core.frame.DataFrame'>\n",
      "DatetimeIndex: 1542405 entries, 2019-09-23 to 2020-07-17\n",
      "Data columns (total 11 columns):\n",
      " #   Column               Non-Null Count    Dtype  \n",
      "---  ------               --------------    -----  \n",
      " 0   Close                1542405 non-null  float64\n",
      " 1   High                 1542405 non-null  float64\n",
      " 2   Low                  1542405 non-null  float64\n",
      " 3   Open                 1542405 non-null  float64\n",
      " 4   Ticker               1542405 non-null  object \n",
      " 5   Vol                  1542405 non-null  int64  \n",
      " 6   users_holding_first  1289438 non-null  float64\n",
      " 7   users_holding_last   1289438 non-null  float64\n",
      " 8   users_holding_max    1289438 non-null  float64\n",
      " 9   users_holding_min    1289438 non-null  float64\n",
      " 10  Time                 1542405 non-null  object \n",
      "dtypes: float64(8), int64(1), object(2)\n",
      "memory usage: 141.2+ MB\n"
     ]
    }
   ],
   "source": [
    "day.info()"
   ]
  },
  {
   "cell_type": "code",
   "execution_count": 7,
   "metadata": {},
   "outputs": [
    {
     "data": {
      "text/html": [
       "<div>\n",
       "<style scoped>\n",
       "    .dataframe tbody tr th:only-of-type {\n",
       "        vertical-align: middle;\n",
       "    }\n",
       "\n",
       "    .dataframe tbody tr th {\n",
       "        vertical-align: top;\n",
       "    }\n",
       "\n",
       "    .dataframe thead th {\n",
       "        text-align: right;\n",
       "    }\n",
       "</style>\n",
       "<table border=\"1\" class=\"dataframe\">\n",
       "  <thead>\n",
       "    <tr style=\"text-align: right;\">\n",
       "      <th></th>\n",
       "      <th>Close</th>\n",
       "      <th>High</th>\n",
       "      <th>Low</th>\n",
       "      <th>Open</th>\n",
       "      <th>Ticker</th>\n",
       "      <th>Vol</th>\n",
       "      <th>users_holding_first</th>\n",
       "      <th>users_holding_last</th>\n",
       "      <th>users_holding_max</th>\n",
       "      <th>users_holding_min</th>\n",
       "      <th>Time</th>\n",
       "    </tr>\n",
       "    <tr>\n",
       "      <th>Date</th>\n",
       "      <th></th>\n",
       "      <th></th>\n",
       "      <th></th>\n",
       "      <th></th>\n",
       "      <th></th>\n",
       "      <th></th>\n",
       "      <th></th>\n",
       "      <th></th>\n",
       "      <th></th>\n",
       "      <th></th>\n",
       "      <th></th>\n",
       "    </tr>\n",
       "  </thead>\n",
       "  <tbody>\n",
       "    <tr>\n",
       "      <th>2019-09-23</th>\n",
       "      <td>52.25</td>\n",
       "      <td>52.30</td>\n",
       "      <td>52.250</td>\n",
       "      <td>52.3000</td>\n",
       "      <td>IBA</td>\n",
       "      <td>400</td>\n",
       "      <td>22.0</td>\n",
       "      <td>22.0</td>\n",
       "      <td>22.0</td>\n",
       "      <td>22.0</td>\n",
       "      <td>13:00:00</td>\n",
       "    </tr>\n",
       "    <tr>\n",
       "      <th>2019-09-24</th>\n",
       "      <td>52.51</td>\n",
       "      <td>52.68</td>\n",
       "      <td>52.500</td>\n",
       "      <td>52.5000</td>\n",
       "      <td>IBA</td>\n",
       "      <td>508</td>\n",
       "      <td>22.0</td>\n",
       "      <td>22.0</td>\n",
       "      <td>22.0</td>\n",
       "      <td>22.0</td>\n",
       "      <td>13:00:00</td>\n",
       "    </tr>\n",
       "    <tr>\n",
       "      <th>2019-09-25</th>\n",
       "      <td>52.62</td>\n",
       "      <td>52.62</td>\n",
       "      <td>52.415</td>\n",
       "      <td>52.6200</td>\n",
       "      <td>IBA</td>\n",
       "      <td>2618</td>\n",
       "      <td>22.0</td>\n",
       "      <td>22.0</td>\n",
       "      <td>22.0</td>\n",
       "      <td>22.0</td>\n",
       "      <td>13:00:00</td>\n",
       "    </tr>\n",
       "    <tr>\n",
       "      <th>2019-09-26</th>\n",
       "      <td>51.75</td>\n",
       "      <td>51.82</td>\n",
       "      <td>51.750</td>\n",
       "      <td>51.7877</td>\n",
       "      <td>IBA</td>\n",
       "      <td>1547</td>\n",
       "      <td>22.0</td>\n",
       "      <td>22.0</td>\n",
       "      <td>22.0</td>\n",
       "      <td>22.0</td>\n",
       "      <td>13:00:00</td>\n",
       "    </tr>\n",
       "    <tr>\n",
       "      <th>2019-09-27</th>\n",
       "      <td>53.76</td>\n",
       "      <td>53.76</td>\n",
       "      <td>53.080</td>\n",
       "      <td>53.0800</td>\n",
       "      <td>IBA</td>\n",
       "      <td>1809</td>\n",
       "      <td>22.0</td>\n",
       "      <td>22.0</td>\n",
       "      <td>22.0</td>\n",
       "      <td>22.0</td>\n",
       "      <td>13:00:00</td>\n",
       "    </tr>\n",
       "    <tr>\n",
       "      <th>...</th>\n",
       "      <td>...</td>\n",
       "      <td>...</td>\n",
       "      <td>...</td>\n",
       "      <td>...</td>\n",
       "      <td>...</td>\n",
       "      <td>...</td>\n",
       "      <td>...</td>\n",
       "      <td>...</td>\n",
       "      <td>...</td>\n",
       "      <td>...</td>\n",
       "      <td>...</td>\n",
       "    </tr>\n",
       "    <tr>\n",
       "      <th>2020-07-13</th>\n",
       "      <td>1.84</td>\n",
       "      <td>1.88</td>\n",
       "      <td>1.800</td>\n",
       "      <td>1.8087</td>\n",
       "      <td>ENTX</td>\n",
       "      <td>120507</td>\n",
       "      <td>267.0</td>\n",
       "      <td>267.0</td>\n",
       "      <td>267.0</td>\n",
       "      <td>267.0</td>\n",
       "      <td>13:00:00</td>\n",
       "    </tr>\n",
       "    <tr>\n",
       "      <th>2020-07-14</th>\n",
       "      <td>1.79</td>\n",
       "      <td>1.79</td>\n",
       "      <td>1.775</td>\n",
       "      <td>1.7801</td>\n",
       "      <td>ENTX</td>\n",
       "      <td>4300</td>\n",
       "      <td>252.0</td>\n",
       "      <td>252.0</td>\n",
       "      <td>252.0</td>\n",
       "      <td>252.0</td>\n",
       "      <td>13:00:00</td>\n",
       "    </tr>\n",
       "    <tr>\n",
       "      <th>2020-07-15</th>\n",
       "      <td>1.91</td>\n",
       "      <td>1.94</td>\n",
       "      <td>1.900</td>\n",
       "      <td>1.9300</td>\n",
       "      <td>ENTX</td>\n",
       "      <td>13029</td>\n",
       "      <td>286.0</td>\n",
       "      <td>281.0</td>\n",
       "      <td>286.0</td>\n",
       "      <td>281.0</td>\n",
       "      <td>13:00:00</td>\n",
       "    </tr>\n",
       "    <tr>\n",
       "      <th>2020-07-16</th>\n",
       "      <td>1.84</td>\n",
       "      <td>1.90</td>\n",
       "      <td>1.840</td>\n",
       "      <td>1.9000</td>\n",
       "      <td>ENTX</td>\n",
       "      <td>16417</td>\n",
       "      <td>250.0</td>\n",
       "      <td>250.0</td>\n",
       "      <td>250.0</td>\n",
       "      <td>250.0</td>\n",
       "      <td>13:00:00</td>\n",
       "    </tr>\n",
       "    <tr>\n",
       "      <th>2020-07-17</th>\n",
       "      <td>1.88</td>\n",
       "      <td>1.89</td>\n",
       "      <td>1.870</td>\n",
       "      <td>1.8800</td>\n",
       "      <td>ENTX</td>\n",
       "      <td>4900</td>\n",
       "      <td>236.0</td>\n",
       "      <td>236.0</td>\n",
       "      <td>236.0</td>\n",
       "      <td>236.0</td>\n",
       "      <td>13:00:00</td>\n",
       "    </tr>\n",
       "  </tbody>\n",
       "</table>\n",
       "<p>1542405 rows × 11 columns</p>\n",
       "</div>"
      ],
      "text/plain": [
       "            Close   High     Low     Open Ticker     Vol  users_holding_first  \\\n",
       "Date                                                                            \n",
       "2019-09-23  52.25  52.30  52.250  52.3000    IBA     400                 22.0   \n",
       "2019-09-24  52.51  52.68  52.500  52.5000    IBA     508                 22.0   \n",
       "2019-09-25  52.62  52.62  52.415  52.6200    IBA    2618                 22.0   \n",
       "2019-09-26  51.75  51.82  51.750  51.7877    IBA    1547                 22.0   \n",
       "2019-09-27  53.76  53.76  53.080  53.0800    IBA    1809                 22.0   \n",
       "...           ...    ...     ...      ...    ...     ...                  ...   \n",
       "2020-07-13   1.84   1.88   1.800   1.8087   ENTX  120507                267.0   \n",
       "2020-07-14   1.79   1.79   1.775   1.7801   ENTX    4300                252.0   \n",
       "2020-07-15   1.91   1.94   1.900   1.9300   ENTX   13029                286.0   \n",
       "2020-07-16   1.84   1.90   1.840   1.9000   ENTX   16417                250.0   \n",
       "2020-07-17   1.88   1.89   1.870   1.8800   ENTX    4900                236.0   \n",
       "\n",
       "            users_holding_last  users_holding_max  users_holding_min      Time  \n",
       "Date                                                                            \n",
       "2019-09-23                22.0               22.0               22.0  13:00:00  \n",
       "2019-09-24                22.0               22.0               22.0  13:00:00  \n",
       "2019-09-25                22.0               22.0               22.0  13:00:00  \n",
       "2019-09-26                22.0               22.0               22.0  13:00:00  \n",
       "2019-09-27                22.0               22.0               22.0  13:00:00  \n",
       "...                        ...                ...                ...       ...  \n",
       "2020-07-13               267.0              267.0              267.0  13:00:00  \n",
       "2020-07-14               252.0              252.0              252.0  13:00:00  \n",
       "2020-07-15               281.0              286.0              281.0  13:00:00  \n",
       "2020-07-16               250.0              250.0              250.0  13:00:00  \n",
       "2020-07-17               236.0              236.0              236.0  13:00:00  \n",
       "\n",
       "[1542405 rows x 11 columns]"
      ]
     },
     "execution_count": 7,
     "metadata": {},
     "output_type": "execute_result"
    }
   ],
   "source": [
    "day = day.fillna(method='bfill')\n",
    "day"
   ]
  },
  {
   "cell_type": "code",
   "execution_count": 8,
   "metadata": {},
   "outputs": [
    {
     "name": "stdout",
     "output_type": "stream",
     "text": [
      "<class 'pandas.core.frame.DataFrame'>\n",
      "DatetimeIndex: 1542405 entries, 2019-09-23 to 2020-07-17\n",
      "Data columns (total 11 columns):\n",
      " #   Column               Non-Null Count    Dtype  \n",
      "---  ------               --------------    -----  \n",
      " 0   Close                1542405 non-null  float64\n",
      " 1   High                 1542405 non-null  float64\n",
      " 2   Low                  1542405 non-null  float64\n",
      " 3   Open                 1542405 non-null  float64\n",
      " 4   Ticker               1542405 non-null  object \n",
      " 5   Vol                  1542405 non-null  int64  \n",
      " 6   users_holding_first  1542405 non-null  float64\n",
      " 7   users_holding_last   1542405 non-null  float64\n",
      " 8   users_holding_max    1542405 non-null  float64\n",
      " 9   users_holding_min    1542405 non-null  float64\n",
      " 10  Time                 1542405 non-null  object \n",
      "dtypes: float64(8), int64(1), object(2)\n",
      "memory usage: 141.2+ MB\n"
     ]
    }
   ],
   "source": [
    "day.info()"
   ]
  },
  {
   "cell_type": "markdown",
   "metadata": {},
   "source": [
    "I again filter the data using a groupby method by combining the 'Date' column and the 'Close' column and generate the Tesla assets daily closing price mean. I again do the same thing for the max amount of daily users as well and plot them both."
   ]
  },
  {
   "cell_type": "code",
   "execution_count": 166,
   "metadata": {},
   "outputs": [],
   "source": [
    "filt = (day['Ticker'] == 'AMZN')\n",
    "Amazon = day[filt]"
   ]
  },
  {
   "cell_type": "code",
   "execution_count": 167,
   "metadata": {
    "scrolled": true
   },
   "outputs": [
    {
     "data": {
      "text/html": [
       "<div>\n",
       "<style scoped>\n",
       "    .dataframe tbody tr th:only-of-type {\n",
       "        vertical-align: middle;\n",
       "    }\n",
       "\n",
       "    .dataframe tbody tr th {\n",
       "        vertical-align: top;\n",
       "    }\n",
       "\n",
       "    .dataframe thead th {\n",
       "        text-align: right;\n",
       "    }\n",
       "</style>\n",
       "<table border=\"1\" class=\"dataframe\">\n",
       "  <thead>\n",
       "    <tr style=\"text-align: right;\">\n",
       "      <th></th>\n",
       "      <th>Close</th>\n",
       "      <th>High</th>\n",
       "      <th>Low</th>\n",
       "      <th>Open</th>\n",
       "      <th>Ticker</th>\n",
       "      <th>Vol</th>\n",
       "      <th>users_holding_first</th>\n",
       "      <th>users_holding_last</th>\n",
       "      <th>users_holding_max</th>\n",
       "      <th>users_holding_min</th>\n",
       "      <th>Time</th>\n",
       "    </tr>\n",
       "    <tr>\n",
       "      <th>Date</th>\n",
       "      <th></th>\n",
       "      <th></th>\n",
       "      <th></th>\n",
       "      <th></th>\n",
       "      <th></th>\n",
       "      <th></th>\n",
       "      <th></th>\n",
       "      <th></th>\n",
       "      <th></th>\n",
       "      <th></th>\n",
       "      <th></th>\n",
       "    </tr>\n",
       "  </thead>\n",
       "  <tbody>\n",
       "    <tr>\n",
       "      <th>2019-09-23</th>\n",
       "      <td>1785.30</td>\n",
       "      <td>1792.70</td>\n",
       "      <td>1784.10</td>\n",
       "      <td>1790.32</td>\n",
       "      <td>AMZN</td>\n",
       "      <td>366379</td>\n",
       "      <td>116052.0</td>\n",
       "      <td>116052.0</td>\n",
       "      <td>116052.0</td>\n",
       "      <td>116052.0</td>\n",
       "      <td>13:00:00</td>\n",
       "    </tr>\n",
       "    <tr>\n",
       "      <th>2019-09-24</th>\n",
       "      <td>1741.61</td>\n",
       "      <td>1747.58</td>\n",
       "      <td>1735.55</td>\n",
       "      <td>1745.47</td>\n",
       "      <td>AMZN</td>\n",
       "      <td>637112</td>\n",
       "      <td>116612.0</td>\n",
       "      <td>116612.0</td>\n",
       "      <td>116612.0</td>\n",
       "      <td>116612.0</td>\n",
       "      <td>13:00:00</td>\n",
       "    </tr>\n",
       "    <tr>\n",
       "      <th>2019-09-25</th>\n",
       "      <td>1768.33</td>\n",
       "      <td>1773.00</td>\n",
       "      <td>1763.26</td>\n",
       "      <td>1764.03</td>\n",
       "      <td>AMZN</td>\n",
       "      <td>533712</td>\n",
       "      <td>116948.0</td>\n",
       "      <td>116948.0</td>\n",
       "      <td>116948.0</td>\n",
       "      <td>116948.0</td>\n",
       "      <td>13:00:00</td>\n",
       "    </tr>\n",
       "    <tr>\n",
       "      <th>2019-09-26</th>\n",
       "      <td>1740.12</td>\n",
       "      <td>1746.89</td>\n",
       "      <td>1736.50</td>\n",
       "      <td>1737.28</td>\n",
       "      <td>AMZN</td>\n",
       "      <td>311176</td>\n",
       "      <td>117468.0</td>\n",
       "      <td>117468.0</td>\n",
       "      <td>117468.0</td>\n",
       "      <td>117468.0</td>\n",
       "      <td>13:00:00</td>\n",
       "    </tr>\n",
       "    <tr>\n",
       "      <th>2019-09-27</th>\n",
       "      <td>1725.45</td>\n",
       "      <td>1727.64</td>\n",
       "      <td>1715.92</td>\n",
       "      <td>1716.15</td>\n",
       "      <td>AMZN</td>\n",
       "      <td>499621</td>\n",
       "      <td>117692.0</td>\n",
       "      <td>117692.0</td>\n",
       "      <td>117692.0</td>\n",
       "      <td>117692.0</td>\n",
       "      <td>13:00:00</td>\n",
       "    </tr>\n",
       "    <tr>\n",
       "      <th>...</th>\n",
       "      <td>...</td>\n",
       "      <td>...</td>\n",
       "      <td>...</td>\n",
       "      <td>...</td>\n",
       "      <td>...</td>\n",
       "      <td>...</td>\n",
       "      <td>...</td>\n",
       "      <td>...</td>\n",
       "      <td>...</td>\n",
       "      <td>...</td>\n",
       "      <td>...</td>\n",
       "    </tr>\n",
       "    <tr>\n",
       "      <th>2020-07-13</th>\n",
       "      <td>3104.00</td>\n",
       "      <td>3228.24</td>\n",
       "      <td>3068.39</td>\n",
       "      <td>3228.24</td>\n",
       "      <td>AMZN</td>\n",
       "      <td>957947</td>\n",
       "      <td>357773.0</td>\n",
       "      <td>357773.0</td>\n",
       "      <td>357773.0</td>\n",
       "      <td>357773.0</td>\n",
       "      <td>13:00:00</td>\n",
       "    </tr>\n",
       "    <tr>\n",
       "      <th>2020-07-14</th>\n",
       "      <td>3084.00</td>\n",
       "      <td>3092.01</td>\n",
       "      <td>3006.45</td>\n",
       "      <td>3043.66</td>\n",
       "      <td>AMZN</td>\n",
       "      <td>549608</td>\n",
       "      <td>362181.0</td>\n",
       "      <td>362181.0</td>\n",
       "      <td>362181.0</td>\n",
       "      <td>362181.0</td>\n",
       "      <td>13:00:00</td>\n",
       "    </tr>\n",
       "    <tr>\n",
       "      <th>2020-07-15</th>\n",
       "      <td>3008.87</td>\n",
       "      <td>3031.50</td>\n",
       "      <td>3000.00</td>\n",
       "      <td>3026.22</td>\n",
       "      <td>AMZN</td>\n",
       "      <td>519083</td>\n",
       "      <td>366864.0</td>\n",
       "      <td>367492.0</td>\n",
       "      <td>367492.0</td>\n",
       "      <td>366864.0</td>\n",
       "      <td>13:00:00</td>\n",
       "    </tr>\n",
       "    <tr>\n",
       "      <th>2020-07-16</th>\n",
       "      <td>2999.90</td>\n",
       "      <td>3024.92</td>\n",
       "      <td>2977.44</td>\n",
       "      <td>2992.00</td>\n",
       "      <td>AMZN</td>\n",
       "      <td>487617</td>\n",
       "      <td>370348.0</td>\n",
       "      <td>370601.0</td>\n",
       "      <td>370601.0</td>\n",
       "      <td>370348.0</td>\n",
       "      <td>13:00:00</td>\n",
       "    </tr>\n",
       "    <tr>\n",
       "      <th>2020-07-17</th>\n",
       "      <td>2961.97</td>\n",
       "      <td>2982.68</td>\n",
       "      <td>2955.01</td>\n",
       "      <td>2979.12</td>\n",
       "      <td>AMZN</td>\n",
       "      <td>579625</td>\n",
       "      <td>373943.0</td>\n",
       "      <td>373943.0</td>\n",
       "      <td>373943.0</td>\n",
       "      <td>373943.0</td>\n",
       "      <td>13:00:00</td>\n",
       "    </tr>\n",
       "  </tbody>\n",
       "</table>\n",
       "<p>205 rows × 11 columns</p>\n",
       "</div>"
      ],
      "text/plain": [
       "              Close     High      Low     Open Ticker     Vol  \\\n",
       "Date                                                            \n",
       "2019-09-23  1785.30  1792.70  1784.10  1790.32   AMZN  366379   \n",
       "2019-09-24  1741.61  1747.58  1735.55  1745.47   AMZN  637112   \n",
       "2019-09-25  1768.33  1773.00  1763.26  1764.03   AMZN  533712   \n",
       "2019-09-26  1740.12  1746.89  1736.50  1737.28   AMZN  311176   \n",
       "2019-09-27  1725.45  1727.64  1715.92  1716.15   AMZN  499621   \n",
       "...             ...      ...      ...      ...    ...     ...   \n",
       "2020-07-13  3104.00  3228.24  3068.39  3228.24   AMZN  957947   \n",
       "2020-07-14  3084.00  3092.01  3006.45  3043.66   AMZN  549608   \n",
       "2020-07-15  3008.87  3031.50  3000.00  3026.22   AMZN  519083   \n",
       "2020-07-16  2999.90  3024.92  2977.44  2992.00   AMZN  487617   \n",
       "2020-07-17  2961.97  2982.68  2955.01  2979.12   AMZN  579625   \n",
       "\n",
       "            users_holding_first  users_holding_last  users_holding_max  \\\n",
       "Date                                                                     \n",
       "2019-09-23             116052.0            116052.0           116052.0   \n",
       "2019-09-24             116612.0            116612.0           116612.0   \n",
       "2019-09-25             116948.0            116948.0           116948.0   \n",
       "2019-09-26             117468.0            117468.0           117468.0   \n",
       "2019-09-27             117692.0            117692.0           117692.0   \n",
       "...                         ...                 ...                ...   \n",
       "2020-07-13             357773.0            357773.0           357773.0   \n",
       "2020-07-14             362181.0            362181.0           362181.0   \n",
       "2020-07-15             366864.0            367492.0           367492.0   \n",
       "2020-07-16             370348.0            370601.0           370601.0   \n",
       "2020-07-17             373943.0            373943.0           373943.0   \n",
       "\n",
       "            users_holding_min      Time  \n",
       "Date                                     \n",
       "2019-09-23           116052.0  13:00:00  \n",
       "2019-09-24           116612.0  13:00:00  \n",
       "2019-09-25           116948.0  13:00:00  \n",
       "2019-09-26           117468.0  13:00:00  \n",
       "2019-09-27           117692.0  13:00:00  \n",
       "...                       ...       ...  \n",
       "2020-07-13           357773.0  13:00:00  \n",
       "2020-07-14           362181.0  13:00:00  \n",
       "2020-07-15           366864.0  13:00:00  \n",
       "2020-07-16           370348.0  13:00:00  \n",
       "2020-07-17           373943.0  13:00:00  \n",
       "\n",
       "[205 rows x 11 columns]"
      ]
     },
     "execution_count": 167,
     "metadata": {},
     "output_type": "execute_result"
    }
   ],
   "source": [
    "Amazon"
   ]
  },
  {
   "cell_type": "code",
   "execution_count": 168,
   "metadata": {},
   "outputs": [
    {
     "name": "stdout",
     "output_type": "stream",
     "text": [
      "<class 'pandas.core.frame.DataFrame'>\n",
      "DatetimeIndex: 205 entries, 2019-09-23 to 2020-07-17\n",
      "Data columns (total 11 columns):\n",
      " #   Column               Non-Null Count  Dtype  \n",
      "---  ------               --------------  -----  \n",
      " 0   Close                205 non-null    float64\n",
      " 1   High                 205 non-null    float64\n",
      " 2   Low                  205 non-null    float64\n",
      " 3   Open                 205 non-null    float64\n",
      " 4   Ticker               205 non-null    object \n",
      " 5   Vol                  205 non-null    int64  \n",
      " 6   users_holding_first  205 non-null    float64\n",
      " 7   users_holding_last   205 non-null    float64\n",
      " 8   users_holding_max    205 non-null    float64\n",
      " 9   users_holding_min    205 non-null    float64\n",
      " 10  Time                 205 non-null    object \n",
      "dtypes: float64(8), int64(1), object(2)\n",
      "memory usage: 19.2+ KB\n"
     ]
    }
   ],
   "source": [
    "Amazon.info()"
   ]
  },
  {
   "cell_type": "code",
   "execution_count": 169,
   "metadata": {},
   "outputs": [
    {
     "data": {
      "text/html": [
       "<div>\n",
       "<style scoped>\n",
       "    .dataframe tbody tr th:only-of-type {\n",
       "        vertical-align: middle;\n",
       "    }\n",
       "\n",
       "    .dataframe tbody tr th {\n",
       "        vertical-align: top;\n",
       "    }\n",
       "\n",
       "    .dataframe thead th {\n",
       "        text-align: right;\n",
       "    }\n",
       "</style>\n",
       "<table border=\"1\" class=\"dataframe\">\n",
       "  <thead>\n",
       "    <tr style=\"text-align: right;\">\n",
       "      <th></th>\n",
       "      <th>Close</th>\n",
       "    </tr>\n",
       "    <tr>\n",
       "      <th>Date</th>\n",
       "      <th></th>\n",
       "    </tr>\n",
       "  </thead>\n",
       "  <tbody>\n",
       "    <tr>\n",
       "      <th>2019-09-23</th>\n",
       "      <td>1785.30</td>\n",
       "    </tr>\n",
       "    <tr>\n",
       "      <th>2019-09-24</th>\n",
       "      <td>1741.61</td>\n",
       "    </tr>\n",
       "    <tr>\n",
       "      <th>2019-09-25</th>\n",
       "      <td>1768.33</td>\n",
       "    </tr>\n",
       "    <tr>\n",
       "      <th>2019-09-26</th>\n",
       "      <td>1740.12</td>\n",
       "    </tr>\n",
       "    <tr>\n",
       "      <th>2019-09-27</th>\n",
       "      <td>1725.45</td>\n",
       "    </tr>\n",
       "    <tr>\n",
       "      <th>...</th>\n",
       "      <td>...</td>\n",
       "    </tr>\n",
       "    <tr>\n",
       "      <th>2020-07-13</th>\n",
       "      <td>3104.00</td>\n",
       "    </tr>\n",
       "    <tr>\n",
       "      <th>2020-07-14</th>\n",
       "      <td>3084.00</td>\n",
       "    </tr>\n",
       "    <tr>\n",
       "      <th>2020-07-15</th>\n",
       "      <td>3008.87</td>\n",
       "    </tr>\n",
       "    <tr>\n",
       "      <th>2020-07-16</th>\n",
       "      <td>2999.90</td>\n",
       "    </tr>\n",
       "    <tr>\n",
       "      <th>2020-07-17</th>\n",
       "      <td>2961.97</td>\n",
       "    </tr>\n",
       "  </tbody>\n",
       "</table>\n",
       "<p>205 rows × 1 columns</p>\n",
       "</div>"
      ],
      "text/plain": [
       "              Close\n",
       "Date               \n",
       "2019-09-23  1785.30\n",
       "2019-09-24  1741.61\n",
       "2019-09-25  1768.33\n",
       "2019-09-26  1740.12\n",
       "2019-09-27  1725.45\n",
       "...             ...\n",
       "2020-07-13  3104.00\n",
       "2020-07-14  3084.00\n",
       "2020-07-15  3008.87\n",
       "2020-07-16  2999.90\n",
       "2020-07-17  2961.97\n",
       "\n",
       "[205 rows x 1 columns]"
      ]
     },
     "execution_count": 169,
     "metadata": {},
     "output_type": "execute_result"
    }
   ],
   "source": [
    "Amazon2 = Amazon.groupby('Date').aggregate({'Close':'mean'})\n",
    "Amazon2"
   ]
  },
  {
   "cell_type": "code",
   "execution_count": 170,
   "metadata": {},
   "outputs": [
    {
     "data": {
      "text/html": [
       "<div>\n",
       "<style scoped>\n",
       "    .dataframe tbody tr th:only-of-type {\n",
       "        vertical-align: middle;\n",
       "    }\n",
       "\n",
       "    .dataframe tbody tr th {\n",
       "        vertical-align: top;\n",
       "    }\n",
       "\n",
       "    .dataframe thead th {\n",
       "        text-align: right;\n",
       "    }\n",
       "</style>\n",
       "<table border=\"1\" class=\"dataframe\">\n",
       "  <thead>\n",
       "    <tr style=\"text-align: right;\">\n",
       "      <th></th>\n",
       "      <th>users_holding_max</th>\n",
       "    </tr>\n",
       "    <tr>\n",
       "      <th>Date</th>\n",
       "      <th></th>\n",
       "    </tr>\n",
       "  </thead>\n",
       "  <tbody>\n",
       "    <tr>\n",
       "      <th>2019-09-23</th>\n",
       "      <td>116052.0</td>\n",
       "    </tr>\n",
       "    <tr>\n",
       "      <th>2019-09-24</th>\n",
       "      <td>116612.0</td>\n",
       "    </tr>\n",
       "    <tr>\n",
       "      <th>2019-09-25</th>\n",
       "      <td>116948.0</td>\n",
       "    </tr>\n",
       "    <tr>\n",
       "      <th>2019-09-26</th>\n",
       "      <td>117468.0</td>\n",
       "    </tr>\n",
       "    <tr>\n",
       "      <th>2019-09-27</th>\n",
       "      <td>117692.0</td>\n",
       "    </tr>\n",
       "    <tr>\n",
       "      <th>...</th>\n",
       "      <td>...</td>\n",
       "    </tr>\n",
       "    <tr>\n",
       "      <th>2020-07-13</th>\n",
       "      <td>357773.0</td>\n",
       "    </tr>\n",
       "    <tr>\n",
       "      <th>2020-07-14</th>\n",
       "      <td>362181.0</td>\n",
       "    </tr>\n",
       "    <tr>\n",
       "      <th>2020-07-15</th>\n",
       "      <td>367492.0</td>\n",
       "    </tr>\n",
       "    <tr>\n",
       "      <th>2020-07-16</th>\n",
       "      <td>370601.0</td>\n",
       "    </tr>\n",
       "    <tr>\n",
       "      <th>2020-07-17</th>\n",
       "      <td>373943.0</td>\n",
       "    </tr>\n",
       "  </tbody>\n",
       "</table>\n",
       "<p>205 rows × 1 columns</p>\n",
       "</div>"
      ],
      "text/plain": [
       "            users_holding_max\n",
       "Date                         \n",
       "2019-09-23           116052.0\n",
       "2019-09-24           116612.0\n",
       "2019-09-25           116948.0\n",
       "2019-09-26           117468.0\n",
       "2019-09-27           117692.0\n",
       "...                       ...\n",
       "2020-07-13           357773.0\n",
       "2020-07-14           362181.0\n",
       "2020-07-15           367492.0\n",
       "2020-07-16           370601.0\n",
       "2020-07-17           373943.0\n",
       "\n",
       "[205 rows x 1 columns]"
      ]
     },
     "execution_count": 170,
     "metadata": {},
     "output_type": "execute_result"
    }
   ],
   "source": [
    "users = Amazon.groupby('Date').aggregate({'users_holding_max':'mean'})\n",
    "users"
   ]
  },
  {
   "cell_type": "code",
   "execution_count": 171,
   "metadata": {},
   "outputs": [
    {
     "data": {
      "text/plain": [
       "<matplotlib.axes._subplots.AxesSubplot at 0x260f82080b8>"
      ]
     },
     "execution_count": 171,
     "metadata": {},
     "output_type": "execute_result"
    },
    {
     "data": {
      "image/png": "[encoded data removed]",
      "text/plain": [
       "<Figure size 1440x360 with 1 Axes>"
      ]
     },
     "metadata": {
      "needs_background": "light"
     },
     "output_type": "display_data"
    }
   ],
   "source": [
    "Amazon2.Close.plot(figsize=(20,5), title='Closing Tesla Stock Prices')"
   ]
  },
  {
   "cell_type": "code",
   "execution_count": 172,
   "metadata": {},
   "outputs": [
    {
     "data": {
      "text/plain": [
       "<matplotlib.axes._subplots.AxesSubplot at 0x260f82354a8>"
      ]
     },
     "execution_count": 172,
     "metadata": {},
     "output_type": "execute_result"
    },
    {
     "data": {
      "image/png": "[encoded data removed]",
      "text/plain": [
       "<Figure size 1440x360 with 1 Axes>"
      ]
     },
     "metadata": {
      "needs_background": "light"
     },
     "output_type": "display_data"
    }
   ],
   "source": [
    "users.plot(figsize=(20,5), title='Total Tesla Users')"
   ]
  },
  {
   "cell_type": "markdown",
   "metadata": {},
   "source": [
    "I am now going to run the Dickey-Fuller test to check to see if my data is stationary. The results show that it is not because the first value has to be less than the three critical values at the bottom (1%, 5%, 10%), and the p-value, the second value, is not in the >=0.05 range. I am going to convert the data into returns to get my data stationary."
   ]
  },
  {
   "cell_type": "code",
   "execution_count": 173,
   "metadata": {},
   "outputs": [
    {
     "data": {
      "text/plain": [
       "(0.3939818141807283,\n",
       " 0.9812684830836589,\n",
       " 2,\n",
       " 202,\n",
       " {'1%': -3.4631437906252636,\n",
       "  '5%': -2.8759570379821047,\n",
       "  '10%': -2.574454682874228},\n",
       " 2000.7781130984656)"
      ]
     },
     "execution_count": 173,
     "metadata": {},
     "output_type": "execute_result"
    }
   ],
   "source": [
    "sts.adfuller(Amazon2.Close)"
   ]
  },
  {
   "cell_type": "code",
   "execution_count": 174,
   "metadata": {},
   "outputs": [
    {
     "data": {
      "text/html": [
       "<div>\n",
       "<style scoped>\n",
       "    .dataframe tbody tr th:only-of-type {\n",
       "        vertical-align: middle;\n",
       "    }\n",
       "\n",
       "    .dataframe tbody tr th {\n",
       "        vertical-align: top;\n",
       "    }\n",
       "\n",
       "    .dataframe thead th {\n",
       "        text-align: right;\n",
       "    }\n",
       "</style>\n",
       "<table border=\"1\" class=\"dataframe\">\n",
       "  <thead>\n",
       "    <tr style=\"text-align: right;\">\n",
       "      <th></th>\n",
       "      <th>Close</th>\n",
       "      <th>returns</th>\n",
       "      <th>returns2</th>\n",
       "    </tr>\n",
       "    <tr>\n",
       "      <th>Date</th>\n",
       "      <th></th>\n",
       "      <th></th>\n",
       "      <th></th>\n",
       "    </tr>\n",
       "  </thead>\n",
       "  <tbody>\n",
       "    <tr>\n",
       "      <th>2019-09-24</th>\n",
       "      <td>1741.61</td>\n",
       "      <td>-2.447208</td>\n",
       "      <td>NaN</td>\n",
       "    </tr>\n",
       "    <tr>\n",
       "      <th>2019-09-25</th>\n",
       "      <td>1768.33</td>\n",
       "      <td>1.534213</td>\n",
       "      <td>1.534213</td>\n",
       "    </tr>\n",
       "    <tr>\n",
       "      <th>2019-09-26</th>\n",
       "      <td>1740.12</td>\n",
       "      <td>-1.595290</td>\n",
       "      <td>-1.595290</td>\n",
       "    </tr>\n",
       "    <tr>\n",
       "      <th>2019-09-27</th>\n",
       "      <td>1725.45</td>\n",
       "      <td>-0.843045</td>\n",
       "      <td>-0.843045</td>\n",
       "    </tr>\n",
       "    <tr>\n",
       "      <th>2019-09-30</th>\n",
       "      <td>1735.91</td>\n",
       "      <td>0.606219</td>\n",
       "      <td>0.606219</td>\n",
       "    </tr>\n",
       "    <tr>\n",
       "      <th>...</th>\n",
       "      <td>...</td>\n",
       "      <td>...</td>\n",
       "      <td>...</td>\n",
       "    </tr>\n",
       "    <tr>\n",
       "      <th>2020-07-13</th>\n",
       "      <td>3104.00</td>\n",
       "      <td>-3.000000</td>\n",
       "      <td>-3.000000</td>\n",
       "    </tr>\n",
       "    <tr>\n",
       "      <th>2020-07-14</th>\n",
       "      <td>3084.00</td>\n",
       "      <td>-0.644330</td>\n",
       "      <td>-0.644330</td>\n",
       "    </tr>\n",
       "    <tr>\n",
       "      <th>2020-07-15</th>\n",
       "      <td>3008.87</td>\n",
       "      <td>-2.436122</td>\n",
       "      <td>-2.436122</td>\n",
       "    </tr>\n",
       "    <tr>\n",
       "      <th>2020-07-16</th>\n",
       "      <td>2999.90</td>\n",
       "      <td>-0.298119</td>\n",
       "      <td>-0.298119</td>\n",
       "    </tr>\n",
       "    <tr>\n",
       "      <th>2020-07-17</th>\n",
       "      <td>2961.97</td>\n",
       "      <td>-1.264375</td>\n",
       "      <td>-1.264375</td>\n",
       "    </tr>\n",
       "  </tbody>\n",
       "</table>\n",
       "<p>204 rows × 3 columns</p>\n",
       "</div>"
      ],
      "text/plain": [
       "              Close   returns  returns2\n",
       "Date                                   \n",
       "2019-09-24  1741.61 -2.447208       NaN\n",
       "2019-09-25  1768.33  1.534213  1.534213\n",
       "2019-09-26  1740.12 -1.595290 -1.595290\n",
       "2019-09-27  1725.45 -0.843045 -0.843045\n",
       "2019-09-30  1735.91  0.606219  0.606219\n",
       "...             ...       ...       ...\n",
       "2020-07-13  3104.00 -3.000000 -3.000000\n",
       "2020-07-14  3084.00 -0.644330 -0.644330\n",
       "2020-07-15  3008.87 -2.436122 -2.436122\n",
       "2020-07-16  2999.90 -0.298119 -0.298119\n",
       "2020-07-17  2961.97 -1.264375 -1.264375\n",
       "\n",
       "[204 rows x 3 columns]"
      ]
     },
     "execution_count": 174,
     "metadata": {},
     "output_type": "execute_result"
    }
   ],
   "source": [
    "Amazon2['returns'] = Amazon2.Close.pct_change(1).mul(100)\n",
    "Amazon2 = Amazon2.iloc[1:]\n",
    "Amazon2['returns2'] = Amazon2.Close.pct_change(1).mul(100)\n",
    "Amazon2"
   ]
  },
  {
   "cell_type": "markdown",
   "metadata": {},
   "source": [
    "Looking at my data now, this shows that my data is now stationary! I am also going to check the ACF and PACF."
   ]
  },
  {
   "cell_type": "code",
   "execution_count": 175,
   "metadata": {},
   "outputs": [
    {
     "data": {
      "text/plain": [
       "(-5.574398178945019,\n",
       " 1.4431103176289627e-06,\n",
       " 7,\n",
       " 196,\n",
       " {'1%': -3.464161278384219,\n",
       "  '5%': -2.876401960790147,\n",
       "  '10%': -2.5746921001665974},\n",
       " 828.4692276485418)"
      ]
     },
     "execution_count": 175,
     "metadata": {},
     "output_type": "execute_result"
    }
   ],
   "source": [
    "sts.adfuller(Amazon2.returns)"
   ]
  },
  {
   "cell_type": "code",
   "execution_count": 176,
   "metadata": {},
   "outputs": [
    {
     "data": {
      "image/png": "[encoded data removed]",
      "text/plain": [
       "<Figure size 432x288 with 1 Axes>"
      ]
     },
     "metadata": {
      "needs_background": "light"
     },
     "output_type": "display_data"
    }
   ],
   "source": [
    "sgt.plot_acf(Amazon2.returns, lags = 40, zero = False)\n",
    "plt.title('ACF for Users', size = 15)\n",
    "plt.show()"
   ]
  },
  {
   "cell_type": "code",
   "execution_count": 177,
   "metadata": {},
   "outputs": [
    {
     "data": {
      "image/png": "[encoded data removed]",
      "text/plain": [
       "<Figure size 432x288 with 1 Axes>"
      ]
     },
     "metadata": {
      "needs_background": "light"
     },
     "output_type": "display_data"
    }
   ],
   "source": [
    "sgt.plot_pacf(Amazon2.returns, lags = 40, zero = False)\n",
    "plt.title('PACF for Users', size = 15)\n",
    "plt.show()"
   ]
  },
  {
   "cell_type": "markdown",
   "metadata": {},
   "source": [
    "I am now going to split my test and train sets for my modeling."
   ]
  },
  {
   "cell_type": "code",
   "execution_count": 178,
   "metadata": {},
   "outputs": [],
   "source": [
    "size = int(len(Amazon2)*0.8)\n",
    "df = Amazon2.iloc[:size] \n",
    "df_test = Amazon2.iloc[size:]"
   ]
  },
  {
   "cell_type": "code",
   "execution_count": 340,
   "metadata": {},
   "outputs": [
    {
     "data": {
      "text/plain": [
       "<matplotlib.axes._subplots.AxesSubplot at 0x260f1b8dfd0>"
      ]
     },
     "execution_count": 340,
     "metadata": {},
     "output_type": "execute_result"
    },
    {
     "data": {
      "image/png": "[encoded data removed]",
      "text/plain": [
       "<Figure size 432x288 with 1 Axes>"
      ]
     },
     "metadata": {
      "needs_background": "light"
     },
     "output_type": "display_data"
    }
   ],
   "source": [
    "df.Close.plot()\n",
    "df_test.Close.plot()"
   ]
  },
  {
   "cell_type": "markdown",
   "metadata": {},
   "source": [
    "## Simple Auto ARIMA"
   ]
  },
  {
   "cell_type": "markdown",
   "metadata": {},
   "source": [
    "Even though I created returns from the stock prices and made my data stationary, I am going to use a simple Auto ARIMA model and also an Advanced Auto ARIMA model to test to see which model produces the best forecasting results. These models are best for non-stationary data modeling and usually returns better forecasting results."
   ]
  },
  {
   "cell_type": "code",
   "execution_count": 180,
   "metadata": {},
   "outputs": [],
   "source": [
    "model_auto = auto_arima(df.Close)"
   ]
  },
  {
   "cell_type": "code",
   "execution_count": 181,
   "metadata": {},
   "outputs": [
    {
     "data": {
      "text/plain": [
       "ARIMA(order=(1, 1, 0), scoring_args={})"
      ]
     },
     "execution_count": 181,
     "metadata": {},
     "output_type": "execute_result"
    }
   ],
   "source": [
    "model_auto"
   ]
  },
  {
   "cell_type": "code",
   "execution_count": 182,
   "metadata": {},
   "outputs": [
    {
     "data": {
      "text/html": [
       "<table class=\"simpletable\">\n",
       "<caption>SARIMAX Results</caption>\n",
       "<tr>\n",
       "  <th>Dep. Variable:</th>           <td>y</td>        <th>  No. Observations:  </th>    <td>163</td>  \n",
       "</tr>\n",
       "<tr>\n",
       "  <th>Model:</th>           <td>SARIMAX(1, 1, 0)</td> <th>  Log Likelihood     </th> <td>-840.018</td>\n",
       "</tr>\n",
       "<tr>\n",
       "  <th>Date:</th>            <td>Tue, 08 Sep 2020</td> <th>  AIC                </th> <td>1686.035</td>\n",
       "</tr>\n",
       "<tr>\n",
       "  <th>Time:</th>                <td>23:10:02</td>     <th>  BIC                </th> <td>1695.298</td>\n",
       "</tr>\n",
       "<tr>\n",
       "  <th>Sample:</th>                  <td>0</td>        <th>  HQIC               </th> <td>1689.796</td>\n",
       "</tr>\n",
       "<tr>\n",
       "  <th></th>                      <td> - 163</td>      <th>                     </th>     <td> </td>   \n",
       "</tr>\n",
       "<tr>\n",
       "  <th>Covariance Type:</th>        <td>opg</td>       <th>                     </th>     <td> </td>   \n",
       "</tr>\n",
       "</table>\n",
       "<table class=\"simpletable\">\n",
       "<tr>\n",
       "      <td></td>         <th>coef</th>     <th>std err</th>      <th>z</th>      <th>P>|z|</th>  <th>[0.025</th>    <th>0.975]</th>  \n",
       "</tr>\n",
       "<tr>\n",
       "  <th>intercept</th> <td>    5.1492</td> <td>    3.447</td> <td>    1.494</td> <td> 0.135</td> <td>   -1.607</td> <td>   11.905</td>\n",
       "</tr>\n",
       "<tr>\n",
       "  <th>ar.L1</th>     <td>   -0.1994</td> <td>    0.051</td> <td>   -3.920</td> <td> 0.000</td> <td>   -0.299</td> <td>   -0.100</td>\n",
       "</tr>\n",
       "<tr>\n",
       "  <th>sigma2</th>    <td> 1866.4236</td> <td>  128.328</td> <td>   14.544</td> <td> 0.000</td> <td> 1614.906</td> <td> 2117.942</td>\n",
       "</tr>\n",
       "</table>\n",
       "<table class=\"simpletable\">\n",
       "<tr>\n",
       "  <th>Ljung-Box (Q):</th>          <td>48.01</td> <th>  Jarque-Bera (JB):  </th> <td>73.52</td>\n",
       "</tr>\n",
       "<tr>\n",
       "  <th>Prob(Q):</th>                <td>0.18</td>  <th>  Prob(JB):          </th> <td>0.00</td> \n",
       "</tr>\n",
       "<tr>\n",
       "  <th>Heteroskedasticity (H):</th> <td>13.37</td> <th>  Skew:              </th> <td>-0.21</td>\n",
       "</tr>\n",
       "<tr>\n",
       "  <th>Prob(H) (two-sided):</th>    <td>0.00</td>  <th>  Kurtosis:          </th> <td>6.27</td> \n",
       "</tr>\n",
       "</table><br/><br/>Warnings:<br/>[1] Covariance matrix calculated using the outer product of gradients (complex-step)."
      ],
      "text/plain": [
       "<class 'statsmodels.iolib.summary.Summary'>\n",
       "\"\"\"\n",
       "                               SARIMAX Results                                \n",
       "==============================================================================\n",
       "Dep. Variable:                      y   No. Observations:                  163\n",
       "Model:               SARIMAX(1, 1, 0)   Log Likelihood                -840.018\n",
       "Date:                Tue, 08 Sep 2020   AIC                           1686.035\n",
       "Time:                        23:10:02   BIC                           1695.298\n",
       "Sample:                             0   HQIC                          1689.796\n",
       "                                - 163                                         \n",
       "Covariance Type:                  opg                                         \n",
       "==============================================================================\n",
       "                 coef    std err          z      P>|z|      [0.025      0.975]\n",
       "------------------------------------------------------------------------------\n",
       "intercept      5.1492      3.447      1.494      0.135      -1.607      11.905\n",
       "ar.L1         -0.1994      0.051     -3.920      0.000      -0.299      -0.100\n",
       "sigma2      1866.4236    128.328     14.544      0.000    1614.906    2117.942\n",
       "===================================================================================\n",
       "Ljung-Box (Q):                       48.01   Jarque-Bera (JB):                73.52\n",
       "Prob(Q):                              0.18   Prob(JB):                         0.00\n",
       "Heteroskedasticity (H):              13.37   Skew:                            -0.21\n",
       "Prob(H) (two-sided):                  0.00   Kurtosis:                         6.27\n",
       "===================================================================================\n",
       "\n",
       "Warnings:\n",
       "[1] Covariance matrix calculated using the outer product of gradients (complex-step).\n",
       "\"\"\""
      ]
     },
     "execution_count": 182,
     "metadata": {},
     "output_type": "execute_result"
    }
   ],
   "source": [
    "model_auto.summary()"
   ]
  },
  {
   "cell_type": "code",
   "execution_count": 353,
   "metadata": {},
   "outputs": [
    {
     "data": {
      "text/html": [
       "<div>\n",
       "<style scoped>\n",
       "    .dataframe tbody tr th:only-of-type {\n",
       "        vertical-align: middle;\n",
       "    }\n",
       "\n",
       "    .dataframe tbody tr th {\n",
       "        vertical-align: top;\n",
       "    }\n",
       "\n",
       "    .dataframe thead th {\n",
       "        text-align: right;\n",
       "    }\n",
       "</style>\n",
       "<table border=\"1\" class=\"dataframe\">\n",
       "  <thead>\n",
       "    <tr style=\"text-align: right;\">\n",
       "      <th></th>\n",
       "      <th>predicted_stock_price</th>\n",
       "    </tr>\n",
       "    <tr>\n",
       "      <th>Date</th>\n",
       "      <th></th>\n",
       "    </tr>\n",
       "  </thead>\n",
       "  <tbody>\n",
       "    <tr>\n",
       "      <th>2020-05-20</th>\n",
       "      <td>2449.877894</td>\n",
       "    </tr>\n",
       "    <tr>\n",
       "      <th>2020-05-21</th>\n",
       "      <td>2454.917819</td>\n",
       "    </tr>\n",
       "    <tr>\n",
       "      <th>2020-05-22</th>\n",
       "      <td>2459.061809</td>\n",
       "    </tr>\n",
       "    <tr>\n",
       "      <th>2020-05-26</th>\n",
       "      <td>2463.384493</td>\n",
       "    </tr>\n",
       "    <tr>\n",
       "      <th>2020-05-27</th>\n",
       "      <td>2467.671537</td>\n",
       "    </tr>\n",
       "  </tbody>\n",
       "</table>\n",
       "</div>"
      ],
      "text/plain": [
       "            predicted_stock_price\n",
       "Date                             \n",
       "2020-05-20            2449.877894\n",
       "2020-05-21            2454.917819\n",
       "2020-05-22            2459.061809\n",
       "2020-05-26            2463.384493\n",
       "2020-05-27            2467.671537"
      ]
     },
     "execution_count": 353,
     "metadata": {},
     "output_type": "execute_result"
    }
   ],
   "source": [
    "prediction = pd.DataFrame(model_auto.predict(n_periods = 41), index=df_test.Close.index)\n",
    "prediction.columns = ['predicted_stock_price']\n",
    "prediction.head()"
   ]
  },
  {
   "cell_type": "code",
   "execution_count": 354,
   "metadata": {},
   "outputs": [
    {
     "data": {
      "image/png": "[encoded data removed]",
      "text/plain": [
       "<Figure size 576x360 with 1 Axes>"
      ]
     },
     "metadata": {
      "needs_background": "light"
     },
     "output_type": "display_data"
    }
   ],
   "source": [
    "plt.figure(figsize=(8,5))\n",
    "plt.plot(df.Close, label = 'Training')\n",
    "plt.plot(df_test.Close, label = 'Testing')\n",
    "plt.plot(prediction, label = 'Prediction')\n",
    "plt.legend(loc = 'Left corner')\n",
    "plt.show()"
   ]
  },
  {
   "cell_type": "code",
   "execution_count": 355,
   "metadata": {
    "scrolled": true
   },
   "outputs": [
    {
     "data": {
      "text/plain": [
       "Text(0.5, 1.0, 'Predicted Amazon Stock Prices vs. Test Data')"
      ]
     },
     "execution_count": 355,
     "metadata": {},
     "output_type": "execute_result"
    },
    {
     "data": {
      "image/png": "[encoded data removed]",
      "text/plain": [
       "<Figure size 1440x360 with 1 Axes>"
      ]
     },
     "metadata": {
      "needs_background": "light"
     },
     "output_type": "display_data"
    }
   ],
   "source": [
    "prediction.plot(figsize = (20,5), color = 'red')\n",
    "df_test.Close.plot(color = 'blue')\n",
    "plt.title('Predicted Amazon Stock Prices vs. Test Data', size = 24)"
   ]
  },
  {
   "cell_type": "markdown",
   "metadata": {},
   "source": [
    "I am going to calculate the r2 score to show just how accurate my prediction model is. -0.158 is not accurate at all. You want you score to be as close to 1.0 as you can get. Anything 0.70+ is usually considered substantial. I am going to build an advanced auto ARIMA model next to see if that will give me better results."
   ]
  },
  {
   "cell_type": "code",
   "execution_count": 356,
   "metadata": {},
   "outputs": [
    {
     "data": {
      "text/plain": [
       "-0.15836897303755193"
      ]
     },
     "execution_count": 356,
     "metadata": {},
     "output_type": "execute_result"
    }
   ],
   "source": [
    "df_test['predicted_stock_price'] = prediction\n",
    "r2_score(df_test.Close, df_test.predicted_stock_price)"
   ]
  },
  {
   "cell_type": "markdown",
   "metadata": {},
   "source": [
    "## Advanced Auto ARIMA"
   ]
  },
  {
   "cell_type": "code",
   "execution_count": 348,
   "metadata": {},
   "outputs": [
    {
     "name": "stdout",
     "output_type": "stream",
     "text": [
      "Performing stepwise search to minimize oob\n",
      " ARIMA(1,1,1)(1,0,1)[2] intercept   : OOB=153274.179, Time=0.22 sec\n",
      " ARIMA(0,1,0)(0,0,0)[2] intercept   : OOB=147543.929, Time=0.05 sec\n",
      " ARIMA(1,1,0)(1,0,0)[2] intercept   : OOB=153937.867, Time=0.12 sec\n",
      " ARIMA(0,1,1)(0,0,1)[2] intercept   : OOB=159018.442, Time=0.20 sec\n",
      " ARIMA(0,1,0)(0,0,0)[2]             : OOB=147543.929, Time=0.05 sec\n",
      " ARIMA(0,1,0)(1,0,0)[2] intercept   : OOB=147384.032, Time=0.09 sec\n",
      " ARIMA(0,1,0)(2,0,0)[2] intercept   : OOB=155082.097, Time=0.13 sec\n",
      " ARIMA(0,1,0)(1,0,1)[2] intercept   : OOB=135057.463, Time=0.13 sec\n",
      " ARIMA(0,1,0)(0,0,1)[2] intercept   : OOB=145756.637, Time=0.12 sec\n",
      " ARIMA(0,1,0)(2,0,1)[2] intercept   : OOB=140420.506, Time=0.30 sec\n",
      " ARIMA(0,1,0)(1,0,2)[2] intercept   : OOB=134307.143, Time=0.27 sec\n",
      " ARIMA(0,1,0)(0,0,2)[2] intercept   : OOB=156066.491, Time=0.12 sec\n",
      " ARIMA(0,1,0)(2,0,2)[2] intercept   : OOB=135090.155, Time=0.43 sec\n",
      " ARIMA(1,1,0)(1,0,2)[2] intercept   : OOB=152895.631, Time=0.34 sec\n",
      " ARIMA(0,1,1)(1,0,2)[2] intercept   : OOB=153082.890, Time=0.34 sec\n",
      " ARIMA(1,1,1)(1,0,2)[2] intercept   : OOB=153273.402, Time=0.35 sec\n",
      " ARIMA(0,1,0)(1,0,2)[2]             : OOB=134307.143, Time=0.25 sec\n",
      "\n",
      "Best model:  ARIMA(0,1,0)(1,0,2)[2]          \n",
      "Total fit time: 3.519 seconds\n"
     ]
    }
   ],
   "source": [
    "model_auto2 = auto_arima(df.Close, m = 2,\n",
    "                       max_order = None, max_p = 2, max_q =2, max_d = 1, max_P = 2, max_Q = 2, max_D = 1,\n",
    "                       maxiter = 50, alpha = 0.05, n_jobs = -1, seasonal = True, error_action='ignore', trace=True, surpress_warnings=True, stepwise=True, trend = 'ct', information_criterion = 'oob',\n",
    "                       out_of_sample_size = int(len(Amazon2)*0.2))"
   ]
  },
  {
   "cell_type": "code",
   "execution_count": 357,
   "metadata": {},
   "outputs": [
    {
     "data": {
      "text/html": [
       "<div>\n",
       "<style scoped>\n",
       "    .dataframe tbody tr th:only-of-type {\n",
       "        vertical-align: middle;\n",
       "    }\n",
       "\n",
       "    .dataframe tbody tr th {\n",
       "        vertical-align: top;\n",
       "    }\n",
       "\n",
       "    .dataframe thead th {\n",
       "        text-align: right;\n",
       "    }\n",
       "</style>\n",
       "<table border=\"1\" class=\"dataframe\">\n",
       "  <thead>\n",
       "    <tr style=\"text-align: right;\">\n",
       "      <th></th>\n",
       "      <th>predicted_stock_price</th>\n",
       "    </tr>\n",
       "    <tr>\n",
       "      <th>Date</th>\n",
       "      <th></th>\n",
       "    </tr>\n",
       "  </thead>\n",
       "  <tbody>\n",
       "    <tr>\n",
       "      <th>2020-05-20</th>\n",
       "      <td>2459.712767</td>\n",
       "    </tr>\n",
       "    <tr>\n",
       "      <th>2020-05-21</th>\n",
       "      <td>2470.940485</td>\n",
       "    </tr>\n",
       "    <tr>\n",
       "      <th>2020-05-22</th>\n",
       "      <td>2480.954507</td>\n",
       "    </tr>\n",
       "    <tr>\n",
       "      <th>2020-05-26</th>\n",
       "      <td>2491.061614</td>\n",
       "    </tr>\n",
       "    <tr>\n",
       "      <th>2020-05-27</th>\n",
       "      <td>2501.141673</td>\n",
       "    </tr>\n",
       "  </tbody>\n",
       "</table>\n",
       "</div>"
      ],
      "text/plain": [
       "            predicted_stock_price\n",
       "Date                             \n",
       "2020-05-20            2459.712767\n",
       "2020-05-21            2470.940485\n",
       "2020-05-22            2480.954507\n",
       "2020-05-26            2491.061614\n",
       "2020-05-27            2501.141673"
      ]
     },
     "execution_count": 357,
     "metadata": {},
     "output_type": "execute_result"
    }
   ],
   "source": [
    "prediction2 = pd.DataFrame(model_auto2.predict(n_periods = 41), index=df_test.Close.index)\n",
    "prediction2.columns = ['predicted_stock_price']\n",
    "prediction2.head()"
   ]
  },
  {
   "cell_type": "code",
   "execution_count": 358,
   "metadata": {},
   "outputs": [
    {
     "data": {
      "image/png": "[encoded data removed]",
      "text/plain": [
       "<Figure size 576x360 with 1 Axes>"
      ]
     },
     "metadata": {
      "needs_background": "light"
     },
     "output_type": "display_data"
    }
   ],
   "source": [
    "plt.figure(figsize=(8,5))\n",
    "plt.plot(df.Close, label = 'Training')\n",
    "plt.plot(df_test.Close, label = 'Testing')\n",
    "plt.plot(prediction2, label = 'Prediction')\n",
    "plt.legend(loc = 'Left corner')\n",
    "plt.show()"
   ]
  },
  {
   "cell_type": "code",
   "execution_count": 359,
   "metadata": {
    "scrolled": true
   },
   "outputs": [
    {
     "data": {
      "text/plain": [
       "Text(0.5, 1.0, 'Predicted Amazon Stock Prices vs. Test Data')"
      ]
     },
     "execution_count": 359,
     "metadata": {},
     "output_type": "execute_result"
    },
    {
     "data": {
      "image/png": "[encoded data removed]",
      "text/plain": [
       "<Figure size 1440x360 with 1 Axes>"
      ]
     },
     "metadata": {
      "needs_background": "light"
     },
     "output_type": "display_data"
    }
   ],
   "source": [
    "prediction2.plot(figsize = (20,5), color = 'red')\n",
    "df_test.Close.plot(color = 'blue')\n",
    "plt.title('Predicted Amazon Stock Prices vs. Test Data', size = 24)"
   ]
  },
  {
   "cell_type": "markdown",
   "metadata": {},
   "source": [
    "This model did a lot better! It returned an r2 score of 0.70 which means it is a substantial model. I think my results would have been higher if my training data did not have the COVID 19 stock market crash included during the months of March and April 2020. "
   ]
  },
  {
   "cell_type": "code",
   "execution_count": 360,
   "metadata": {},
   "outputs": [
    {
     "data": {
      "text/plain": [
       "0.7006142667306581"
      ]
     },
     "execution_count": 360,
     "metadata": {},
     "output_type": "execute_result"
    }
   ],
   "source": [
    "from sklearn.metrics import r2_score\n",
    "df_test['predicted_stock_price'] = prediction2\n",
    "r2_score(df_test.Close, df_test.predicted_stock_price)"
   ]
  },
  {
   "cell_type": "markdown",
   "metadata": {},
   "source": [
    "## Conclusion "
   ]
  },
  {
   "cell_type": "markdown",
   "metadata": {},
   "source": [
    "Using the Advanced Auto ARIMA model produced a far more accurate forecasting model than the simple Auto ARIMA model due to the ability of customizing the parameters. My r2 score went from a -0.15836897303755193 to a 0.7006142667306581. Or a -0.16 to a 0.70. It went from not accurate at all to being substantially accurate. \n",
    "\n",
    "I also believe that my model would have been a lot more accurate if it did not have the unforeseen COVID 19 stock market crash in March - April 2020. Trying to create accuracy with a recession built into the data makes things a lot harder since the forecasting values are determined by the past. I want to keep tweaking my model with the different advanced parameter options as well to see if I can  get my model to start to predict volatility. "
   ]
  }
 ],
 "metadata": {
  "kernelspec": {
   "display_name": "Python [conda env:learn-env] *",
   "language": "python",
   "name": "conda-env-learn-env-py"
  },
  "language_info": {
   "codemirror_mode": {
    "name": "ipython",
    "version": 3
   },
   "file_extension": ".py",
   "mimetype": "text/x-python",
   "name": "python",
   "nbconvert_exporter": "python",
   "pygments_lexer": "ipython3",
   "version": "3.6.9"
  }
 },
 "nbformat": 4,
 "nbformat_minor": 2
}
